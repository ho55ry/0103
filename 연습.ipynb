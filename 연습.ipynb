{
 "cells": [
  {
   "cell_type": "code",
   "execution_count": 53,
   "metadata": {},
   "outputs": [
    {
     "name": "stdout",
     "output_type": "stream",
     "text": [
      "   0  1  2\n",
      "0  7  8  9\n",
      "1  a  b  c\n",
      "2  4  5  6\n"
     ]
    }
   ],
   "source": [
    "import pandas as pd\n",
    "data=[[7,8,9],['a','b','c'],[4,5,6]]\n",
    "df1=pd.DataFrame(data)\n",
    "print(df1)"
   ]
  },
  {
   "cell_type": "code",
   "execution_count": 55,
   "metadata": {},
   "outputs": [
    {
     "name": "stdout",
     "output_type": "stream",
     "text": [
      "   ㄱ  ㄴ  ㄷ\n",
      "ㄹ  7  8  9\n",
      "ㅁ  a  b  c\n",
      "ㅂ  4  5  6\n"
     ]
    }
   ],
   "source": [
    "df1.columns=['ㄱ','ㄴ','ㄷ']\n",
    "df1.index=['ㄹ','ㅁ','ㅂ']\n",
    "print(df1)"
   ]
  },
  {
   "cell_type": "code",
   "execution_count": 101,
   "metadata": {},
   "outputs": [
    {
     "name": "stdout",
     "output_type": "stream",
     "text": [
      "   ㄴ\n",
      "ㅂ  5\n",
      "ㄹ  8\n"
     ]
    }
   ],
   "source": [
    "print(df1.loc[['ㅂ','ㄹ']][['ㄴ']])"
   ]
  },
  {
   "cell_type": "code",
   "execution_count": 119,
   "metadata": {},
   "outputs": [
    {
     "name": "stdout",
     "output_type": "stream",
     "text": [
      "   ㄱ  ㄴ\n",
      "ㄹ  7  8\n",
      "ㅁ  a  b\n"
     ]
    }
   ],
   "source": [
    "print(df1.loc[['ㄹ','ㅁ']][['ㄱ','ㄴ']])"
   ]
  },
  {
   "cell_type": "code",
   "execution_count": 129,
   "metadata": {},
   "outputs": [
    {
     "name": "stdout",
     "output_type": "stream",
     "text": [
      "[5, 3]\n"
     ]
    }
   ],
   "source": [
    "A=[]\n",
    "y=3\n",
    "A.append((lambda x: x+2)(y))\n",
    "A.append(y)\n",
    "print(A)"
   ]
  },
  {
   "cell_type": "code",
   "execution_count": 132,
   "metadata": {},
   "outputs": [
    {
     "name": "stdout",
     "output_type": "stream",
     "text": [
      "      0\n",
      "0  10.0\n",
      "1  20.0\n",
      "2  30.0\n",
      "3  40.0\n",
      "4  55.0\n"
     ]
    }
   ],
   "source": [
    "sr1=pd.DataFrame([11,22,33,44,55])\n",
    "sr2=pd.DataFrame([1,2,3,4])\n",
    "sr3=sr1.sub(sr2,fill_value=0)\n",
    "print(sr3)"
   ]
  }
 ],
 "metadata": {
  "kernelspec": {
   "display_name": "Python 3",
   "language": "python",
   "name": "python3"
  },
  "language_info": {
   "codemirror_mode": {
    "name": "ipython",
    "version": 3
   },
   "file_extension": ".py",
   "mimetype": "text/x-python",
   "name": "python",
   "nbconvert_exporter": "python",
   "pygments_lexer": "ipython3",
   "version": "3.10.9"
  },
  "orig_nbformat": 4,
  "vscode": {
   "interpreter": {
    "hash": "23e7cd0fac68f14e6f831e1325482e22752427aa2c3bc43fde0e47b392ec96a8"
   }
  }
 },
 "nbformat": 4,
 "nbformat_minor": 2
}
